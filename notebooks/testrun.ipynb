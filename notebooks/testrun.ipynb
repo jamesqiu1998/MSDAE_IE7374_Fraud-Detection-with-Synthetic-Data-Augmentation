{
 "cells": [
  {
   "cell_type": "code",
   "execution_count": 1,
   "id": "3f23c047",
   "metadata": {},
   "outputs": [],
   "source": [
    "import sys\n",
    "import os\n",
    "# Add the root path to sys.path\n",
    "sys.path.append(os.path.abspath(\"..\"))"
   ]
  },
  {
   "cell_type": "code",
   "execution_count": 8,
   "id": "97d9dae3",
   "metadata": {},
   "outputs": [],
   "source": [
    "import yaml\n",
    "from src.vae import VAE\n",
    "from src.model_runner import generate_synthetic_data\n",
    "from src.train import train_model\n",
    "from evaluate import evaluate_with_synthetic_data\n",
    "from src.data_loader import load_dataset"
   ]
  },
  {
   "cell_type": "markdown",
   "id": "f523fe5a",
   "metadata": {},
   "source": []
  },
  {
   "cell_type": "code",
   "execution_count": 3,
   "id": "527acc34",
   "metadata": {},
   "outputs": [],
   "source": [
    "import yaml\n",
    "\n",
    "with open(\"../config/config.yaml\", \"r\") as f:\n",
    "    train_config = yaml.safe_load(f)"
   ]
  },
  {
   "cell_type": "code",
   "execution_count": 4,
   "id": "71e60c5f",
   "metadata": {},
   "outputs": [
    {
     "name": "stdout",
     "output_type": "stream",
     "text": [
      "Epoch 10, Loss: 24.9885\n",
      "Epoch 20, Loss: 24.1748\n",
      "Epoch 30, Loss: 24.0213\n",
      "Epoch 40, Loss: 23.9568\n",
      "Epoch 50, Loss: 23.9053\n",
      "Epoch 60, Loss: 23.8552\n",
      "Epoch 70, Loss: 23.8568\n",
      "Epoch 80, Loss: 23.7938\n",
      "Epoch 90, Loss: 23.8141\n",
      "Epoch 100, Loss: 23.7948\n"
     ]
    }
   ],
   "source": [
    "train_model(train_config)"
   ]
  },
  {
   "cell_type": "code",
   "execution_count": 5,
   "id": "eeb32381",
   "metadata": {},
   "outputs": [],
   "source": [
    "with open(\"../config/eval_config.yaml\", \"r\") as f:\n",
    "    eval_config = yaml.safe_load(f)"
   ]
  },
  {
   "cell_type": "code",
   "execution_count": 10,
   "id": "8d8d39df",
   "metadata": {},
   "outputs": [
    {
     "ename": "ValueError",
     "evalue": "too many values to unpack (expected 3)",
     "output_type": "error",
     "traceback": [
      "\u001b[31m---------------------------------------------------------------------------\u001b[39m",
      "\u001b[31mValueError\u001b[39m                                Traceback (most recent call last)",
      "\u001b[36mCell\u001b[39m\u001b[36m \u001b[39m\u001b[32mIn[10]\u001b[39m\u001b[32m, line 1\u001b[39m\n\u001b[32m----> \u001b[39m\u001b[32m1\u001b[39m \u001b[43mevaluate_with_synthetic_data\u001b[49m\u001b[43m(\u001b[49m\u001b[43meval_config\u001b[49m\u001b[43m)\u001b[49m\n",
      "\u001b[36mFile \u001b[39m\u001b[32m/workspaces/MSDAE_IE7374_Fraud-Detection-with-Synthetic-Data-Augmentation/evaluate.py:18\u001b[39m, in \u001b[36mevaluate_with_synthetic_data\u001b[39m\u001b[34m(config)\u001b[39m\n\u001b[32m     15\u001b[39m original_df = pd.read_csv(config[\u001b[33m\"\u001b[39m\u001b[33mdata_path\u001b[39m\u001b[33m\"\u001b[39m])\n\u001b[32m     17\u001b[39m \u001b[38;5;66;03m# Generate synthetic fraud data\u001b[39;00m\n\u001b[32m---> \u001b[39m\u001b[32m18\u001b[39m synthetic_df = \u001b[43mgenerate_synthetic_data\u001b[49m\u001b[43m(\u001b[49m\n\u001b[32m     19\u001b[39m \u001b[43m    \u001b[49m\u001b[43mconfig_path\u001b[49m\u001b[43m=\u001b[49m\u001b[43mconfig\u001b[49m\u001b[43m[\u001b[49m\u001b[33;43m\"\u001b[39;49m\u001b[33;43mvae_config_path\u001b[39;49m\u001b[33;43m\"\u001b[39;49m\u001b[43m]\u001b[49m\u001b[43m,\u001b[49m\n\u001b[32m     20\u001b[39m \u001b[43m    \u001b[49m\u001b[43mmodel_path\u001b[49m\u001b[43m=\u001b[49m\u001b[43mconfig\u001b[49m\u001b[43m[\u001b[49m\u001b[33;43m\"\u001b[39;49m\u001b[33;43mvae_model_path\u001b[39;49m\u001b[33;43m\"\u001b[39;49m\u001b[43m]\u001b[49m\u001b[43m,\u001b[49m\n\u001b[32m     21\u001b[39m \u001b[43m    \u001b[49m\u001b[43mn_samples\u001b[49m\u001b[43m=\u001b[49m\u001b[43mconfig\u001b[49m\u001b[43m[\u001b[49m\u001b[33;43m\"\u001b[39;49m\u001b[33;43mn_samples\u001b[39;49m\u001b[33;43m\"\u001b[39;49m\u001b[43m]\u001b[49m\n\u001b[32m     22\u001b[39m \u001b[43m\u001b[49m\u001b[43m)\u001b[49m\n\u001b[32m     24\u001b[39m \u001b[38;5;66;03m# Combine real and synthetic data\u001b[39;00m\n\u001b[32m     25\u001b[39m combined_df = pd.concat([original_df, synthetic_df], ignore_index=\u001b[38;5;28;01mTrue\u001b[39;00m)\n",
      "\u001b[36mFile \u001b[39m\u001b[32m/workspaces/MSDAE_IE7374_Fraud-Detection-with-Synthetic-Data-Augmentation/src/model_runner.py:25\u001b[39m, in \u001b[36mgenerate_synthetic_data\u001b[39m\u001b[34m(config_path, model_path, n_samples)\u001b[39m\n\u001b[32m     22\u001b[39m     synthetic = model.decode(z).numpy()\n\u001b[32m     24\u001b[39m \u001b[38;5;66;03m# Inverse scale\u001b[39;00m\n\u001b[32m---> \u001b[39m\u001b[32m25\u001b[39m _, scaler, df = load_dataset(config[\u001b[33m\"\u001b[39m\u001b[33mdata_path\u001b[39m\u001b[33m\"\u001b[39m], config[\u001b[33m\"\u001b[39m\u001b[33mbatch_size\u001b[39m\u001b[33m\"\u001b[39m], return_df=\u001b[38;5;28;01mTrue\u001b[39;00m)\n\u001b[32m     26\u001b[39m synthetic_original = scaler.inverse_transform(synthetic)\n\u001b[32m     27\u001b[39m columns = df.drop(\u001b[33m\"\u001b[39m\u001b[33mClass\u001b[39m\u001b[33m\"\u001b[39m, axis=\u001b[32m1\u001b[39m).columns\n",
      "\u001b[31mValueError\u001b[39m: too many values to unpack (expected 3)"
     ]
    }
   ],
   "source": [
    "evaluate_with_synthetic_data(eval_config)"
   ]
  },
  {
   "cell_type": "code",
   "execution_count": null,
   "id": "1f701745",
   "metadata": {},
   "outputs": [],
   "source": []
  }
 ],
 "metadata": {
  "kernelspec": {
   "display_name": ".venv",
   "language": "python",
   "name": "python3"
  },
  "language_info": {
   "codemirror_mode": {
    "name": "ipython",
    "version": 3
   },
   "file_extension": ".py",
   "mimetype": "text/x-python",
   "name": "python",
   "nbconvert_exporter": "python",
   "pygments_lexer": "ipython3",
   "version": "3.12.1"
  }
 },
 "nbformat": 4,
 "nbformat_minor": 5
}
