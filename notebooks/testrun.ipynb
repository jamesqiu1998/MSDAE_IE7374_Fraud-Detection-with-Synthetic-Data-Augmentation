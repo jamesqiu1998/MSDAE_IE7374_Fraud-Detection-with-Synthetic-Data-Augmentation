{
 "cells": [
  {
   "cell_type": "code",
   "execution_count": 3,
   "id": "3f23c047",
   "metadata": {},
   "outputs": [],
   "source": [
    "import sys\n",
    "import os\n",
    "\n",
    "# Add the root path to sys.path\n",
    "sys.path.append(os.path.abspath(\"..\"))"
   ]
  },
  {
   "cell_type": "code",
   "execution_count": 4,
   "id": "97d9dae3",
   "metadata": {},
   "outputs": [],
   "source": [
    "import yaml\n",
    "from src.vae import VAE\n",
    "from src.model_runner import generate_synthetic_data\n",
    "from src.train import train_model\n",
    "from evaluate import evaluate_with_synthetic_data"
   ]
  },
  {
   "cell_type": "markdown",
   "id": "f523fe5a",
   "metadata": {},
   "source": []
  },
  {
   "cell_type": "code",
   "execution_count": 16,
   "id": "527acc34",
   "metadata": {},
   "outputs": [],
   "source": [
    "with open(\"../config/config.yaml\", \"r\") as f:\n",
    "    train_config = yaml.safe_load(f)"
   ]
  },
  {
   "cell_type": "code",
   "execution_count": 17,
   "id": "71e60c5f",
   "metadata": {},
   "outputs": [
    {
     "name": "stdout",
     "output_type": "stream",
     "text": [
      "Epoch 10, Loss: 24.5303\n",
      "Epoch 20, Loss: 24.2074\n",
      "Epoch 30, Loss: 23.9851\n",
      "Epoch 40, Loss: 23.9245\n",
      "Epoch 50, Loss: 23.8529\n",
      "Epoch 60, Loss: 23.8274\n",
      "Epoch 70, Loss: 23.7955\n",
      "Epoch 80, Loss: 23.7481\n",
      "Epoch 90, Loss: 23.7191\n",
      "Epoch 100, Loss: 23.6943\n"
     ]
    }
   ],
   "source": [
    "train_model(train_config)"
   ]
  },
  {
   "cell_type": "code",
   "execution_count": null,
   "id": "8d8d39df",
   "metadata": {},
   "outputs": [],
   "source": []
  }
 ],
 "metadata": {
  "kernelspec": {
   "display_name": ".venv",
   "language": "python",
   "name": "python3"
  },
  "language_info": {
   "codemirror_mode": {
    "name": "ipython",
    "version": 3
   },
   "file_extension": ".py",
   "mimetype": "text/x-python",
   "name": "python",
   "nbconvert_exporter": "python",
   "pygments_lexer": "ipython3",
   "version": "3.12.1"
  }
 },
 "nbformat": 4,
 "nbformat_minor": 5
}
